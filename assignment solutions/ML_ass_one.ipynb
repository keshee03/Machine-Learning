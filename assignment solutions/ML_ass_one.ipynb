{
 "cells": [
  {
   "cell_type": "code",
   "execution_count": 3,
   "id": "8ac12bb9-d0ec-470d-9930-a1dcecc6af10",
   "metadata": {},
   "outputs": [],
   "source": [
    "import numpy as np"
   ]
  },
  {
   "cell_type": "code",
   "execution_count": 15,
   "id": "06274bd5-0b78-4ab9-9d4c-b158e561afd8",
   "metadata": {},
   "outputs": [],
   "source": [
    "#(a) Reverse the NumPy array\n",
    "arr = np.array([1,2,3,6,4,5])"
   ]
  },
  {
   "cell_type": "code",
   "execution_count": 17,
   "id": "d764848e-31e2-47d5-9ea6-029730f8d86c",
   "metadata": {},
   "outputs": [
    {
     "name": "stdout",
     "output_type": "stream",
     "text": [
      "Reversed Array [5 4 6 3 2 1]\n"
     ]
    }
   ],
   "source": [
    "print(\"Reversed Array\", arr[::-1])"
   ]
  },
  {
   "cell_type": "code",
   "execution_count": 19,
   "id": "ef0b55e4-1216-47ea-ba5c-2c30f1988247",
   "metadata": {},
   "outputs": [
    {
     "name": "stdout",
     "output_type": "stream",
     "text": [
      "Flattened method1: [1 2 3 2 4 5 1 2 3]\n",
      "Flattened method2: [1 2 3 2 4 5 1 2 3]\n"
     ]
    }
   ],
   "source": [
    "#(b) Flatten the NumPy array\n",
    "arr1 = np.array([[1,2,3],[2,4,5],[1,2,3]])\n",
    "print(\"Flattened method1:\", arr1.flatten())\n",
    "print(\"Flattened method2:\", arr1.ravel())"
   ]
  },
  {
   "cell_type": "code",
   "execution_count": 25,
   "id": "e8c9d038-0b9d-4c3e-9354-fff390617d59",
   "metadata": {},
   "outputs": [
    {
     "name": "stdout",
     "output_type": "stream",
     "text": [
      "Array Comparison: True\n"
     ]
    }
   ],
   "source": [
    "#(c) Compare arrays\n",
    "arr1 = np.array([[1,2],[3,4]])\n",
    "arr2 = np.array([[1,2],[3,4]])\n",
    "print(\"Array Comparison:\", np.array_equal(arr1,arr2))"
   ]
  },
  {
   "cell_type": "code",
   "execution_count": 23,
   "id": "275dcae7-6d41-4781-a6aa-9680fcfebe04",
   "metadata": {},
   "outputs": [
    {
     "name": "stdout",
     "output_type": "stream",
     "text": [
      "mode of x: 1\n",
      "Indices in x: (array([0, 5, 7, 8, 9], dtype=int64),)\n",
      "mode of y: 1\n",
      "Indices in y: (array([0, 1, 2], dtype=int64),)\n"
     ]
    }
   ],
   "source": [
    "#(d) most frequent value and indices \n",
    "x = np.array([1,2,3,4,5,1,2,1,1,1])\n",
    "y = np.array([1,1,1,2,3,4,2,4,3,3])\n",
    "print(\"mode of x:\", np.bincount(x).argmax())\n",
    "print(\"Indices in x:\", np.where(x == np.bincount(x).argmax()))\n",
    "print(\"mode of y:\", np.bincount(y).argmax())\n",
    "print(\"Indices in y:\", np.where(y == np.bincount(y).argmax()))"
   ]
  },
  {
   "cell_type": "code",
   "execution_count": 27,
   "id": "272c71c6-5f70-4035-8aab-0cea37e095b2",
   "metadata": {},
   "outputs": [
    {
     "name": "stdout",
     "output_type": "stream",
     "text": [
      "sum of elements: 45\n",
      "row-wise sum: [[14]\n",
      " [16]\n",
      " [15]]\n",
      "column-wise sum: [[20  9 16]]\n"
     ]
    }
   ],
   "source": [
    "#(e) for matrix\n",
    "gfg = np.matrix('[4, 1, 9; 12, 3, 1; 4, 5, 6]')\n",
    "print(\"sum of elements:\", gfg.sum())\n",
    "print(\"row-wise sum:\", gfg.sum(axis=1))\n",
    "print(\"column-wise sum:\", gfg.sum(axis=0))"
   ]
  },
  {
   "cell_type": "code",
   "execution_count": 9,
   "id": "952b5b50-c954-4520-96d8-830de0c6e347",
   "metadata": {},
   "outputs": [
    {
     "name": "stdout",
     "output_type": "stream",
     "text": [
      "sum of diagonal: 176\n",
      "eigen values: [98.16835147 28.097044   49.73460452]\n",
      "eigen vectors: [[ 0.4574917   0.34637121 -0.15017693]\n",
      " [ 0.28447814 -0.72784061 -0.4852124 ]\n",
      " [ 0.84248058  0.59184038  0.8614034 ]]\n",
      "inverse: [[ 0.02404141 -0.00911212 -0.00444671]\n",
      " [-0.01667882  0.02966905  0.0024785 ]\n",
      " [ 0.00631287 -0.01603732  0.01217379]]\n",
      "determinant: 137180.0000000001\n"
     ]
    }
   ],
   "source": [
    "#(f) matrix operations\n",
    "n = np.array([[55,25,15],[30,44,2],[11,45,77]])\n",
    "print(\"sum of diagonal:\", np.trace(n))\n",
    "eig_vals, eig_vecs = np.linalg.eig(n)\n",
    "print(\"eigen values:\", eig_vals)\n",
    "print(\"eigen vectors:\", eig_vecs)\n",
    "print(\"inverse:\", np.linalg.inv(n))\n",
    "print(\"determinant:\", np.linalg.det(n))"
   ]
  },
  {
   "cell_type": "code",
   "execution_count": 13,
   "id": "c2d5ccb4-1006-4b33-b978-3f37acc50eaa",
   "metadata": {},
   "outputs": [
    {
     "name": "stdout",
     "output_type": "stream",
     "text": [
      "matrix multiplication: [[16 19]\n",
      " [26 31]]\n",
      "covariance: [[0.5 0.5]\n",
      " [0.5 0.5]]\n"
     ]
    }
   ],
   "source": [
    "#(g) multiply and covariance (i)\n",
    "p = [[1,2],[2,3]]\n",
    "q = [[4,5],[6,7]]\n",
    "print(\"matrix multiplication:\", np.dot(p,q))\n",
    "print(\"covariance:\", np.cov(p))"
   ]
  },
  {
   "cell_type": "code",
   "execution_count": 29,
   "id": "a80c97cc-5b9a-4e62-b788-e60af8bd297d",
   "metadata": {},
   "outputs": [
    {
     "name": "stdout",
     "output_type": "stream",
     "text": [
      "matrix multiplication: [[16 19  5]\n",
      " [26 31  8]\n",
      " [46 55 14]]\n",
      "covariance: [[0.5 0.5 0.5]\n",
      " [0.5 0.5 0.5]\n",
      " [0.5 0.5 0.5]]\n"
     ]
    }
   ],
   "source": [
    "#(g) multiply and covariance (ii)\n",
    "p = [[1,2],[2,3],[4,5]]\n",
    "q = [[4,5,1],[6,7,2]]\n",
    "print(\"matrix multiplication:\", np.dot(p,q))\n",
    "print(\"covariance:\", np.cov(p))"
   ]
  },
  {
   "cell_type": "code",
   "execution_count": 31,
   "id": "38f6e426-5a48-4a2a-96cb-4cc4b3f9aa40",
   "metadata": {},
   "outputs": [
    {
     "name": "stdout",
     "output_type": "stream",
     "text": [
      "inner product: [[17 52]\n",
      " [13 62]]\n",
      "outer product: [[ 2 10  0 10 20  6]\n",
      " [ 3 15  0 15 30  9]\n",
      " [ 4 20  0 20 40 12]\n",
      " [ 3 15  0 15 30  9]\n",
      " [ 2 10  0 10 20  6]\n",
      " [ 9 45  0 45 90 27]]\n",
      "cartesian product: [[ 2  1]\n",
      " [ 2  5]\n",
      " [ 2  0]\n",
      " [ 2  5]\n",
      " [ 2 10]\n",
      " [ 2  3]\n",
      " [ 3  1]\n",
      " [ 3  5]\n",
      " [ 3  0]\n",
      " [ 3  5]\n",
      " [ 3 10]\n",
      " [ 3  3]\n",
      " [ 4  1]\n",
      " [ 4  5]\n",
      " [ 4  0]\n",
      " [ 4  5]\n",
      " [ 4 10]\n",
      " [ 4  3]\n",
      " [ 3  1]\n",
      " [ 3  5]\n",
      " [ 3  0]\n",
      " [ 3  5]\n",
      " [ 3 10]\n",
      " [ 3  3]\n",
      " [ 2  1]\n",
      " [ 2  5]\n",
      " [ 2  0]\n",
      " [ 2  5]\n",
      " [ 2 10]\n",
      " [ 2  3]\n",
      " [ 9  1]\n",
      " [ 9  5]\n",
      " [ 9  0]\n",
      " [ 9  5]\n",
      " [ 9 10]\n",
      " [ 9  3]]\n"
     ]
    }
   ],
   "source": [
    "#(h) inner, outer and cartesian product \n",
    "x = np.array([[2,3,4],[3,2,9]])\n",
    "y = np.array([[1,5,0],[5,10,3]])\n",
    "print(\"inner product:\", np.inner(x,y))\n",
    "print(\"outer product:\", np.outer(x,y))\n",
    "car=np.array([(a,b) for a in x.flatten() for b in y.flatten()])\n",
    "print(\"cartesian product:\", car)"
   ]
  },
  {
   "cell_type": "code",
   "execution_count": 19,
   "id": "de36d655-2615-4658-a457-486ab5dd510a",
   "metadata": {},
   "outputs": [
    {
     "name": "stdout",
     "output_type": "stream",
     "text": [
      "absolute values: [[1 2 3]\n",
      " [4 5 6]]\n",
      "flatten percentiles:\n",
      "25th: -3.5\n",
      "50th: -0.5\n",
      "75th: 2.5\n",
      "column percentiles:\n",
      "25th: [-2.75 -0.25 -3.75]\n",
      "50th: [-1.5  1.5 -1.5]\n",
      "75th: [-0.25  3.25  0.75]\n",
      "row percentiles:\n",
      "25th: [-0.5 -5. ]\n",
      "50th: [ 1. -4.]\n",
      "75th: [2.  0.5]\n",
      "Stats:\n",
      "mean -0.5\n",
      "median: -0.5\n",
      "standard deviation 3.8622100754188224\n",
      "column:\n",
      "mean [-1.5  1.5 -1.5]\n",
      "median: [-1.5  1.5 -1.5]\n",
      "standard deviation [2.5 3.5 4.5]\n",
      "row:\n",
      "mean [ 0.66666667 -1.66666667]\n",
      "median: [ 1. -4.]\n",
      "standard deviation [2.05480467 4.78423336]\n"
     ]
    }
   ],
   "source": [
    "# question 2\n",
    "array = np.array([[1, -2, 3],[-4, 5, -6]])\n",
    "#a(i)\n",
    "print(\"absolute values:\",np.abs(array))\n",
    "flat=array.flatten()\n",
    "print(\"flatten percentiles:\")\n",
    "\n",
    "#a(ii)\n",
    "print(\"25th:\",np.percentile(flat,25))\n",
    "print(\"50th:\",np.percentile(flat,50))\n",
    "print(\"75th:\",np.percentile(flat,75))\n",
    "print(\"column percentiles:\")\n",
    "print(\"25th:\",np.percentile(array,25,axis=0))\n",
    "print(\"50th:\",np.percentile(array,50,axis=0))\n",
    "print(\"75th:\",np.percentile(array,75,axis=0))\n",
    "print(\"row percentiles:\")\n",
    "print(\"25th:\",np.percentile(array,25,axis=1))\n",
    "print(\"50th:\",np.percentile(array,50,axis=1))\n",
    "print(\"75th:\",np.percentile(array,75,axis=1))\n",
    "\n",
    "#a(iii)\n",
    "print(\"Stats:\")\n",
    "print(\"mean\",np.mean(flat))\n",
    "print(\"median:\",np.median(flat))\n",
    "print(\"standard deviation\",np.std(flat))\n",
    "print(\"column:\")\n",
    "print(\"mean\",np.mean(array,axis=0))\n",
    "print(\"median:\",np.median(array,axis=0))\n",
    "print(\"standard deviation\",np.std(array,axis=0))\n",
    "print(\"row:\")\n",
    "print(\"mean\",np.mean(array,axis=1))\n",
    "print(\"median:\",np.median(array,axis=1))\n",
    "print(\"standard deviation\",np.std(array,axis=1))"
   ]
  },
  {
   "cell_type": "code",
   "execution_count": 21,
   "id": "42909cd7-5fde-4f1d-9013-348476cf8905",
   "metadata": {},
   "outputs": [
    {
     "name": "stdout",
     "output_type": "stream",
     "text": [
      "floor [-2. -2. -1.  0.  1.  1.  3.]\n",
      "cieling [-1. -1. -0.  1.  2.  2.  3.]\n",
      "truncated [-1. -1. -0.  0.  1.  1.  3.]\n",
      "rounded [-2. -2. -0.  0.  2.  2.  3.]\n"
     ]
    }
   ],
   "source": [
    "#question 2b\n",
    "a = np.array([-1.8, -1.6, -0.5, 0.5, 1.6, 1.8, 3.0])\n",
    "print(\"floor\",np.floor(a))\n",
    "print(\"cieling\",np.ceil(a))\n",
    "print(\"truncated\",np.trunc(a))\n",
    "print(\"rounded\",np.round(a))"
   ]
  },
  {
   "cell_type": "code",
   "execution_count": 33,
   "id": "6906481b-79fd-46f4-a941-f42a82dc4147",
   "metadata": {},
   "outputs": [
    {
     "name": "stdout",
     "output_type": "stream",
     "text": [
      "sorted: [ 10  16  16  52  54  62 453]\n",
      "indices of sorted: [0 3 4 1 5 2 6]\n",
      "4 smallest [10 16 16 52]\n",
      "5 largest [ 16  52  54  62 453]\n"
     ]
    }
   ],
   "source": [
    "#question 3a\n",
    "array = np.array([10, 52, 62, 16, 16, 54, 453])\n",
    "print(\"sorted:\",np.sort(array))\n",
    "print(\"indices of sorted:\",np.argsort(array))\n",
    "print(\"4 smallest\",np.sort(array)[:4])\n",
    "print(\"5 largest\",np.sort(array)[-5:])"
   ]
  },
  {
   "cell_type": "code",
   "execution_count": 35,
   "id": "98e6d55b-c43e-4f73-ba7d-143e92a325ec",
   "metadata": {},
   "outputs": [
    {
     "name": "stdout",
     "output_type": "stream",
     "text": [
      "integers [1. 2. 3. 2.]\n",
      "floats [1.2 2.2]\n"
     ]
    }
   ],
   "source": [
    "#question 3b\n",
    "array = np.array([1.0, 1.2, 2.2, 2.0, 3.0, 2.0])\n",
    "integers=array[np.equal(np.mod(array,1),0)]\n",
    "print(\"integers\",integers)\n",
    "floats=array[np.not_equal(np.mod(array,1),0)]\n",
    "print(\"floats\",floats)"
   ]
  },
  {
   "cell_type": "code",
   "execution_count": 43,
   "id": "fbb229de-afd3-4b9f-98b6-f90c0981b61b",
   "metadata": {},
   "outputs": [
    {
     "name": "stdout",
     "output_type": "stream",
     "text": [
      "loaded array shape: (50246, 3)\n"
     ]
    }
   ],
   "source": [
    "#question 4a\n",
    "from PIL import Image\n",
    "arr = img_to_array(r\"C:\\Users\\keshe\\Downloads\\images_mlone.jpeg\")\n",
    "def img_to_array(path):\n",
    "    img = Image.open(path)\n",
    "    arr = np.array(img)\n",
    "    #save as text file \n",
    "    np.savetxt(\"image_array.txt\", arr.reshape(-1,arr.shape[-1]) if arr.ndim == 3 else arr, fmt=\"%d\")\n",
    "    return arr\n",
    "\n",
    "#load the saved file \n",
    "loaded = np.loadtxt(\"image_array.txt\", dtype=int)\n",
    "print(\"loaded array shape:\", loaded.shape)"
   ]
  }
 ],
 "metadata": {
  "kernelspec": {
   "display_name": "Python 3 (ipykernel)",
   "language": "python",
   "name": "python3"
  },
  "language_info": {
   "codemirror_mode": {
    "name": "ipython",
    "version": 3
   },
   "file_extension": ".py",
   "mimetype": "text/x-python",
   "name": "python",
   "nbconvert_exporter": "python",
   "pygments_lexer": "ipython3",
   "version": "3.12.7"
  }
 },
 "nbformat": 4,
 "nbformat_minor": 5
}
