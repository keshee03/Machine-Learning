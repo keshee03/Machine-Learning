{
 "cells": [
  {
   "cell_type": "code",
   "execution_count": 1,
   "id": "16c3c06d-ea33-4185-a38d-f43655a09cc6",
   "metadata": {},
   "outputs": [],
   "source": [
    "import numpy as np\n",
    "import pandas as pd"
   ]
  },
  {
   "cell_type": "code",
   "execution_count": 11,
   "id": "975c1b7a-37a0-4819-9c0c-613e59309a64",
   "metadata": {},
   "outputs": [],
   "source": [
    "customers=pd.read_csv(\"AWCustomers.csv.zip\")\n",
    "sales=pd.read_csv(\"AWSales.csv\")"
   ]
  },
  {
   "cell_type": "code",
   "execution_count": 13,
   "id": "26557360-e9ea-482f-8fda-f18dfc3e8ab8",
   "metadata": {},
   "outputs": [
    {
     "name": "stdout",
     "output_type": "stream",
     "text": [
      "   CustomerID Title FirstName MiddleName  LastName Suffix  \\\n",
      "0       21173   NaN      Chad          C      Yuan    NaN   \n",
      "1       13249   NaN      Ryan        NaN     Perry    NaN   \n",
      "2       29350   NaN     Julia        NaN  Thompson    NaN   \n",
      "3       13503   NaN  Theodore        NaN     Gomez    NaN   \n",
      "4       22803   NaN  Marshall          J      Shan    NaN   \n",
      "\n",
      "             AddressLine1 AddressLine2         City    StateProvinceName  ...  \\\n",
      "0      7090 C. Mount Hood          NaN   Wollongong      New South Wales  ...   \n",
      "1     3651 Willow Lake Rd          NaN      Shawnee     British Columbia  ...   \n",
      "2  1774 Tice Valley Blvd.          NaN  West Covina           California  ...   \n",
      "3         2103 Baldwin Dr          NaN    Liverpool              England  ...   \n",
      "4         Am Gallberg 234          NaN        Werne  Nordrhein-Westfalen  ...   \n",
      "\n",
      "  Gender MaritalStatus HomeOwnerFlag NumberCarsOwned NumberChildrenAtHome  \\\n",
      "0      M             M             1               3                    0   \n",
      "1      M             M             1               2                    1   \n",
      "2      F             S             0               3                    0   \n",
      "3      M             M             1               2                    1   \n",
      "4      M             S             1               1                    0   \n",
      "\n",
      "  TotalChildren YearlyIncome LastUpdated  BikeBuyer  AvgMonthSpend  \n",
      "0             1        81916  2017-03-06          1          50.97  \n",
      "1             2        81076  2017-03-06          1          53.11  \n",
      "2             0        86387  2017-03-06          1          54.08  \n",
      "3             2        61481  2017-03-06          1          56.93  \n",
      "4             0        51804  2017-03-06          1          55.41  \n",
      "\n",
      "[5 rows x 26 columns]\n"
     ]
    }
   ],
   "source": [
    "df=pd.merge(customers,sales,on=\"CustomerID\",how=\"inner\")\n",
    "print(df.head())"
   ]
  },
  {
   "cell_type": "code",
   "execution_count": 15,
   "id": "3f78e56d-ada4-49c9-957a-9c3a5fdf24be",
   "metadata": {},
   "outputs": [],
   "source": [
    "#Make sure df exists (the merged DataFrame)\n",
    "df_selected = df[[\"BirthDate\",\"Education\",\"Occupation\",\"Gender\",\"MaritalStatus\",\"HomeOwnerFlag\",\"NumberCarsOwned\",\"NumberChildrenAtHome\",\"TotalChildren\",\"YearlyIncome\",\"AvgMonthSpend\",\"BikeBuyer\"]].copy()"
   ]
  },
  {
   "cell_type": "code",
   "execution_count": 17,
   "id": "5f73fd54-9b4a-4325-be0c-0f359976f6f9",
   "metadata": {},
   "outputs": [],
   "source": [
    "df_selected[\"BirthDate\"]=pd.to_datetime(df_selected[\"BirthDate\"])\n",
    "today=pd.to_datetime(\"today\")\n",
    "df_selected[\"Age\"]=today.year-df_selected[\"BirthDate\"].dt.year\n",
    "df_selected.drop(columns=[\"BirthDate\"],inplace=True)"
   ]
  },
  {
   "cell_type": "code",
   "execution_count": 19,
   "id": "b236c10f-3f59-47a6-b1f4-656e6051c156",
   "metadata": {},
   "outputs": [
    {
     "name": "stdout",
     "output_type": "stream",
     "text": [
      "         Education      Occupation Gender MaritalStatus  HomeOwnerFlag  \\\n",
      "0        Bachelors        Clerical      M             M              1   \n",
      "1  Partial College        Clerical      M             M              1   \n",
      "2        Bachelors        Clerical      F             S              0   \n",
      "3  Partial College  Skilled Manual      M             M              1   \n",
      "4  Partial College  Skilled Manual      M             S              1   \n",
      "\n",
      "   NumberCarsOwned  NumberChildrenAtHome  TotalChildren  YearlyIncome  \\\n",
      "0                3                     0              1         81916   \n",
      "1                2                     1              2         81076   \n",
      "2                3                     0              0         86387   \n",
      "3                2                     1              2         61481   \n",
      "4                1                     0              0         51804   \n",
      "\n",
      "   AvgMonthSpend  BikeBuyer  Age  \n",
      "0          50.97          1   38  \n",
      "1          53.11          1   53  \n",
      "2          54.08          1   40  \n",
      "3          56.93          1   48  \n",
      "4          55.41          1   50  \n"
     ]
    }
   ],
   "source": [
    "print(df_selected.head())"
   ]
  },
  {
   "cell_type": "code",
   "execution_count": 21,
   "id": "3fdfee16-f315-4b88-b32c-40d15db7e4f9",
   "metadata": {},
   "outputs": [
    {
     "name": "stdout",
     "output_type": "stream",
     "text": [
      "Measurement Scales:\n",
      "Age:Continuous (Ratio)\n",
      "Education:Discrete (Ordinal)\n",
      "Occupation:Discrete (Nominal)\n",
      "Gender:Discrete (Nominal)\n",
      "MaritalStatus:Discrete (Nominal)\n",
      "HomeOwnerFlag:Discrete (Binary)\n",
      "NumberCarsOwned:Discrete (Ratio)\n",
      "NumberChildrenAtHome:Discrete (Ratio)\n",
      "TotalChildren:Discrete (Ratio)\n",
      "YearlyIncome:Continuous (Ratio)\n",
      "AvgMonthSpend:Continuous (Ratio)\n",
      "BikeBuyer:Discrete (Binary)\n"
     ]
    }
   ],
   "source": [
    "scale_mapping = {\n",
    "    \"Age\": \"Continuous (Ratio)\",\n",
    "    \"Education\": \"Discrete (Ordinal)\",\n",
    "    \"Occupation\": \"Discrete (Nominal)\",\n",
    "    \"Gender\": \"Discrete (Nominal)\",\n",
    "    \"MaritalStatus\": \"Discrete (Nominal)\",\n",
    "    \"HomeOwnerFlag\": \"Discrete (Binary)\",\n",
    "    \"NumberCarsOwned\": \"Discrete (Ratio)\",\n",
    "    \"NumberChildrenAtHome\": \"Discrete (Ratio)\",\n",
    "    \"TotalChildren\": \"Discrete (Ratio)\",\n",
    "    \"YearlyIncome\": \"Continuous (Ratio)\",\n",
    "    \"AvgMonthSpend\": \"Continuous (Ratio)\",\n",
    "    \"BikeBuyer\": \"Discrete (Binary)\"\n",
    "}\n",
    "print(\"Measurement Scales:\")\n",
    "for col,scale in scale_mapping.items():\n",
    "    print(f\"{col}:{scale}\") "
   ]
  },
  {
   "cell_type": "code",
   "execution_count": 23,
   "id": "36e38db8-0a30-43fc-94c3-f9d9402a5dc7",
   "metadata": {},
   "outputs": [
    {
     "name": "stdout",
     "output_type": "stream",
     "text": [
      "(18361, 12)\n"
     ]
    }
   ],
   "source": [
    "print(df_selected.shape)"
   ]
  },
  {
   "cell_type": "code",
   "execution_count": 25,
   "id": "36ef45ee-66ad-4a60-bb21-a8e78ea1e1b3",
   "metadata": {},
   "outputs": [
    {
     "name": "stdout",
     "output_type": "stream",
     "text": [
      "             Education      Occupation Gender MaritalStatus  HomeOwnerFlag  \\\n",
      "0            Bachelors        Clerical      M             M              1   \n",
      "1      Partial College        Clerical      M             M              1   \n",
      "2            Bachelors        Clerical      F             S              0   \n",
      "3      Partial College  Skilled Manual      M             M              1   \n",
      "4      Partial College  Skilled Manual      M             S              1   \n",
      "...                ...             ...    ...           ...            ...   \n",
      "18356  Graduate Degree  Skilled Manual      F             M              0   \n",
      "18357        Bachelors  Skilled Manual      F             S              0   \n",
      "18358  Partial College  Skilled Manual      F             S              0   \n",
      "18359      High School        Clerical      F             S              0   \n",
      "18360  Graduate Degree    Professional      F             M              1   \n",
      "\n",
      "       NumberCarsOwned  NumberChildrenAtHome  TotalChildren  YearlyIncome  \\\n",
      "0                    3                     0              1         81916   \n",
      "1                    2                     1              2         81076   \n",
      "2                    3                     0              0         86387   \n",
      "3                    2                     1              2         61481   \n",
      "4                    1                     0              0         51804   \n",
      "...                ...                   ...            ...           ...   \n",
      "18356                1                     0              2         52953   \n",
      "18357                2                     0              0         60992   \n",
      "18358                2                     0              0         51859   \n",
      "18359                0                     0              0         87177   \n",
      "18360                2                     0              0        136856   \n",
      "\n",
      "       AvgMonthSpend  BikeBuyer  Age  \n",
      "0              50.97          1   38  \n",
      "1              53.11          1   53  \n",
      "2              54.08          1   40  \n",
      "3              56.93          1   48  \n",
      "4              55.41          1   50  \n",
      "...              ...        ...  ...  \n",
      "18356          48.14          0   35  \n",
      "18357          50.23          1   33  \n",
      "18358          49.56          1   42  \n",
      "18359          51.42          0   30  \n",
      "18360          52.27          1   39  \n",
      "\n",
      "[18361 rows x 12 columns]\n"
     ]
    }
   ],
   "source": [
    "print(df_selected)"
   ]
  },
  {
   "cell_type": "code",
   "execution_count": 27,
   "id": "b3a563c2-f2d5-4da1-ab04-e597127f7396",
   "metadata": {},
   "outputs": [
    {
     "name": "stdout",
     "output_type": "stream",
     "text": [
      "CustomerID                  0\n",
      "Title                   18260\n",
      "FirstName                   0\n",
      "MiddleName               7789\n",
      "LastName                    0\n",
      "Suffix                  18358\n",
      "AddressLine1                0\n",
      "AddressLine2            18050\n",
      "City                        0\n",
      "StateProvinceName           0\n",
      "CountryRegionName           0\n",
      "PostalCode                  0\n",
      "PhoneNumber                 0\n",
      "BirthDate                   0\n",
      "Education                   0\n",
      "Occupation                  0\n",
      "Gender                      0\n",
      "MaritalStatus               0\n",
      "HomeOwnerFlag               0\n",
      "NumberCarsOwned             0\n",
      "NumberChildrenAtHome        0\n",
      "TotalChildren               0\n",
      "YearlyIncome                0\n",
      "LastUpdated                 0\n",
      "dtype: int64\n",
      "------------------\n",
      "CustomerID       0\n",
      "BikeBuyer        0\n",
      "AvgMonthSpend    0\n",
      "dtype: int64\n"
     ]
    }
   ],
   "source": [
    "print(customers.isnull().sum())\n",
    "print(\"------------------\")\n",
    "print(sales.isnull().sum())"
   ]
  },
  {
   "cell_type": "code",
   "execution_count": 29,
   "id": "3d802080-5f92-4123-8f5b-86fbc9d32250",
   "metadata": {},
   "outputs": [
    {
     "name": "stdout",
     "output_type": "stream",
     "text": [
      "null value before handling:\n",
      "Education               0\n",
      "Occupation              0\n",
      "Gender                  0\n",
      "MaritalStatus           0\n",
      "HomeOwnerFlag           0\n",
      "NumberCarsOwned         0\n",
      "NumberChildrenAtHome    0\n",
      "TotalChildren           0\n",
      "YearlyIncome            0\n",
      "AvgMonthSpend           0\n",
      "BikeBuyer               0\n",
      "Age                     0\n",
      "dtype: int64\n",
      "null value after handling:\n",
      "Education               0\n",
      "Occupation              0\n",
      "Gender                  0\n",
      "MaritalStatus           0\n",
      "HomeOwnerFlag           0\n",
      "NumberCarsOwned         0\n",
      "NumberChildrenAtHome    0\n",
      "TotalChildren           0\n",
      "YearlyIncome            0\n",
      "AvgMonthSpend           0\n",
      "BikeBuyer               0\n",
      "Age                     0\n",
      "dtype: int64\n"
     ]
    },
    {
     "name": "stderr",
     "output_type": "stream",
     "text": [
      "C:\\Users\\keshe\\AppData\\Local\\Temp\\ipykernel_15548\\3293982506.py:7: FutureWarning: A value is trying to be set on a copy of a DataFrame or Series through chained assignment using an inplace method.\n",
      "The behavior will change in pandas 3.0. This inplace method will never work because the intermediate object on which we are setting values always behaves as a copy.\n",
      "\n",
      "For example, when doing 'df[col].method(value, inplace=True)', try using 'df.method({col: value}, inplace=True)' or df[col] = df[col].method(value) instead, to perform the operation inplace on the original object.\n",
      "\n",
      "\n",
      "  df_selected[col].fillna(df_selected[col].mode(0),inplace=True)\n",
      "C:\\Users\\keshe\\AppData\\Local\\Temp\\ipykernel_15548\\3293982506.py:5: FutureWarning: A value is trying to be set on a copy of a DataFrame or Series through chained assignment using an inplace method.\n",
      "The behavior will change in pandas 3.0. This inplace method will never work because the intermediate object on which we are setting values always behaves as a copy.\n",
      "\n",
      "For example, when doing 'df[col].method(value, inplace=True)', try using 'df.method({col: value}, inplace=True)' or df[col] = df[col].method(value) instead, to perform the operation inplace on the original object.\n",
      "\n",
      "\n",
      "  df_selected[col].fillna(df_selected[col].median(),inplace=True)\n",
      "C:\\Users\\keshe\\AppData\\Local\\Temp\\ipykernel_15548\\3293982506.py:7: FutureWarning: A value is trying to be set on a copy of a DataFrame or Series through chained assignment using an inplace method.\n",
      "The behavior will change in pandas 3.0. This inplace method will never work because the intermediate object on which we are setting values always behaves as a copy.\n",
      "\n",
      "For example, when doing 'df[col].method(value, inplace=True)', try using 'df.method({col: value}, inplace=True)' or df[col] = df[col].method(value) instead, to perform the operation inplace on the original object.\n",
      "\n",
      "\n",
      "  df_selected[col].fillna(df_selected[col].mode(0),inplace=True)\n"
     ]
    }
   ],
   "source": [
    "print(\"null value before handling:\")\n",
    "print(df_selected.isnull().sum())\n",
    "for col in df_selected.columns:\n",
    "    if df_selected[col].dtype in ['int64','float64']:\n",
    "        df_selected[col].fillna(df_selected[col].median(),inplace=True)\n",
    "    else:\n",
    "        df_selected[col].fillna(df_selected[col].mode(0),inplace=True)\n",
    "\n",
    "print(\"null value after handling:\")\n",
    "print(df_selected.isnull().sum())"
   ]
  },
  {
   "cell_type": "code",
   "execution_count": 31,
   "id": "9e22a7ae-1aa8-4371-8f4d-ba85cead01a2",
   "metadata": {},
   "outputs": [],
   "source": [
    "from sklearn.preprocessing import MinMaxScaler"
   ]
  },
  {
   "cell_type": "code",
   "execution_count": 33,
   "id": "69c856c4-a253-4608-a793-2e9d59cbc9e4",
   "metadata": {},
   "outputs": [
    {
     "name": "stdout",
     "output_type": "stream",
     "text": [
      "        Age  YearlyIncome  AvgMonthSpend\n",
      "0  0.185714      0.496842       0.324210\n",
      "1  0.400000      0.489453       0.425201\n",
      "2  0.214286      0.536172       0.470977\n",
      "3  0.328571      0.317083       0.605474\n",
      "4  0.357143      0.231958       0.533742\n"
     ]
    }
   ],
   "source": [
    "num_col=[\"Age\",\"YearlyIncome\",\"AvgMonthSpend\"]\n",
    "df_selected[num_col]=MinMaxScaler().fit_transform(df_selected[num_col])\n",
    "print(df_selected[num_col].head())"
   ]
  },
  {
   "cell_type": "code",
   "execution_count": 35,
   "id": "7cce3eb2-0194-4f57-afde-3ba4d2ba6ee5",
   "metadata": {},
   "outputs": [
    {
     "name": "stdout",
     "output_type": "stream",
     "text": [
      "  income_category  YearlyIncome\n",
      "0          medium      0.496842\n",
      "1          medium      0.489453\n",
      "2          medium      0.536172\n",
      "3             low      0.317083\n",
      "4             low      0.231958\n"
     ]
    }
   ],
   "source": [
    "df_selected[\"income_category\"]=pd.cut(df_selected[\"YearlyIncome\"],bins=3,labels=[\"low\",\"medium\",\"high\"])\n",
    "print(df_selected[[\"income_category\",\"YearlyIncome\"]].head())"
   ]
  },
  {
   "cell_type": "code",
   "execution_count": 37,
   "id": "b8ee205f-e3d4-47e5-ac27-78ceb197a010",
   "metadata": {},
   "outputs": [
    {
     "name": "stdout",
     "output_type": "stream",
     "text": [
      "Index(['Education', 'Occupation', 'Gender', 'MaritalStatus', 'HomeOwnerFlag',\n",
      "       'NumberCarsOwned', 'NumberChildrenAtHome', 'TotalChildren',\n",
      "       'YearlyIncome', 'AvgMonthSpend', 'BikeBuyer', 'Age', 'income_category'],\n",
      "      dtype='object')\n"
     ]
    }
   ],
   "source": [
    "print(df_selected.columns)"
   ]
  },
  {
   "cell_type": "code",
   "execution_count": 39,
   "id": "c43e7811-0612-48e3-a216-aafb5aefeed5",
   "metadata": {},
   "outputs": [],
   "source": [
    "from sklearn.preprocessing import StandardScaler"
   ]
  },
  {
   "cell_type": "code",
   "execution_count": 41,
   "id": "f226d9f0-00b8-485a-a77c-bdcb85dcc444",
   "metadata": {},
   "outputs": [
    {
     "name": "stdout",
     "output_type": "stream",
     "text": [
      "        Age  YearlyIncome  AvgMonthSpend\n",
      "0 -0.482516      0.298555      -0.231774\n",
      "1  0.851033      0.271180       0.390755\n",
      "2 -0.304710      0.444261       0.672929\n",
      "3  0.406517     -0.367401       1.501999\n",
      "4  0.584324     -0.682765       1.059828\n"
     ]
    }
   ],
   "source": [
    "num_col=[\"Age\",\"YearlyIncome\",\"AvgMonthSpend\"]\n",
    "df_selected[num_col]=StandardScaler().fit_transform(df_selected[num_col])\n",
    "print(df_selected[num_col].head())"
   ]
  },
  {
   "cell_type": "code",
   "execution_count": 43,
   "id": "60f5b500-3c96-450b-8650-a4bafe1934c0",
   "metadata": {},
   "outputs": [
    {
     "name": "stdout",
     "output_type": "stream",
     "text": [
      "encoded dataset shape: (18361, 25)\n"
     ]
    },
    {
     "data": {
      "text/html": [
       "<div>\n",
       "<style scoped>\n",
       "    .dataframe tbody tr th:only-of-type {\n",
       "        vertical-align: middle;\n",
       "    }\n",
       "\n",
       "    .dataframe tbody tr th {\n",
       "        vertical-align: top;\n",
       "    }\n",
       "\n",
       "    .dataframe thead th {\n",
       "        text-align: right;\n",
       "    }\n",
       "</style>\n",
       "<table border=\"1\" class=\"dataframe\">\n",
       "  <thead>\n",
       "    <tr style=\"text-align: right;\">\n",
       "      <th></th>\n",
       "      <th>HomeOwnerFlag</th>\n",
       "      <th>NumberCarsOwned</th>\n",
       "      <th>NumberChildrenAtHome</th>\n",
       "      <th>TotalChildren</th>\n",
       "      <th>YearlyIncome</th>\n",
       "      <th>AvgMonthSpend</th>\n",
       "      <th>BikeBuyer</th>\n",
       "      <th>Age</th>\n",
       "      <th>Education_Bachelors</th>\n",
       "      <th>Education_Graduate Degree</th>\n",
       "      <th>...</th>\n",
       "      <th>Occupation_Manual</th>\n",
       "      <th>Occupation_Professional</th>\n",
       "      <th>Occupation_Skilled Manual</th>\n",
       "      <th>Gender_F</th>\n",
       "      <th>Gender_M</th>\n",
       "      <th>MaritalStatus_M</th>\n",
       "      <th>MaritalStatus_S</th>\n",
       "      <th>income_category_low</th>\n",
       "      <th>income_category_medium</th>\n",
       "      <th>income_category_high</th>\n",
       "    </tr>\n",
       "  </thead>\n",
       "  <tbody>\n",
       "    <tr>\n",
       "      <th>0</th>\n",
       "      <td>1</td>\n",
       "      <td>3</td>\n",
       "      <td>0</td>\n",
       "      <td>1</td>\n",
       "      <td>0.298555</td>\n",
       "      <td>-0.231774</td>\n",
       "      <td>1</td>\n",
       "      <td>-0.482516</td>\n",
       "      <td>1</td>\n",
       "      <td>0</td>\n",
       "      <td>...</td>\n",
       "      <td>0</td>\n",
       "      <td>0</td>\n",
       "      <td>0</td>\n",
       "      <td>0</td>\n",
       "      <td>1</td>\n",
       "      <td>1</td>\n",
       "      <td>0</td>\n",
       "      <td>0</td>\n",
       "      <td>1</td>\n",
       "      <td>0</td>\n",
       "    </tr>\n",
       "    <tr>\n",
       "      <th>1</th>\n",
       "      <td>1</td>\n",
       "      <td>2</td>\n",
       "      <td>1</td>\n",
       "      <td>2</td>\n",
       "      <td>0.271180</td>\n",
       "      <td>0.390755</td>\n",
       "      <td>1</td>\n",
       "      <td>0.851033</td>\n",
       "      <td>0</td>\n",
       "      <td>0</td>\n",
       "      <td>...</td>\n",
       "      <td>0</td>\n",
       "      <td>0</td>\n",
       "      <td>0</td>\n",
       "      <td>0</td>\n",
       "      <td>1</td>\n",
       "      <td>1</td>\n",
       "      <td>0</td>\n",
       "      <td>0</td>\n",
       "      <td>1</td>\n",
       "      <td>0</td>\n",
       "    </tr>\n",
       "    <tr>\n",
       "      <th>2</th>\n",
       "      <td>0</td>\n",
       "      <td>3</td>\n",
       "      <td>0</td>\n",
       "      <td>0</td>\n",
       "      <td>0.444261</td>\n",
       "      <td>0.672929</td>\n",
       "      <td>1</td>\n",
       "      <td>-0.304710</td>\n",
       "      <td>1</td>\n",
       "      <td>0</td>\n",
       "      <td>...</td>\n",
       "      <td>0</td>\n",
       "      <td>0</td>\n",
       "      <td>0</td>\n",
       "      <td>1</td>\n",
       "      <td>0</td>\n",
       "      <td>0</td>\n",
       "      <td>1</td>\n",
       "      <td>0</td>\n",
       "      <td>1</td>\n",
       "      <td>0</td>\n",
       "    </tr>\n",
       "    <tr>\n",
       "      <th>3</th>\n",
       "      <td>1</td>\n",
       "      <td>2</td>\n",
       "      <td>1</td>\n",
       "      <td>2</td>\n",
       "      <td>-0.367401</td>\n",
       "      <td>1.501999</td>\n",
       "      <td>1</td>\n",
       "      <td>0.406517</td>\n",
       "      <td>0</td>\n",
       "      <td>0</td>\n",
       "      <td>...</td>\n",
       "      <td>0</td>\n",
       "      <td>0</td>\n",
       "      <td>1</td>\n",
       "      <td>0</td>\n",
       "      <td>1</td>\n",
       "      <td>1</td>\n",
       "      <td>0</td>\n",
       "      <td>1</td>\n",
       "      <td>0</td>\n",
       "      <td>0</td>\n",
       "    </tr>\n",
       "    <tr>\n",
       "      <th>4</th>\n",
       "      <td>1</td>\n",
       "      <td>1</td>\n",
       "      <td>0</td>\n",
       "      <td>0</td>\n",
       "      <td>-0.682765</td>\n",
       "      <td>1.059828</td>\n",
       "      <td>1</td>\n",
       "      <td>0.584324</td>\n",
       "      <td>0</td>\n",
       "      <td>0</td>\n",
       "      <td>...</td>\n",
       "      <td>0</td>\n",
       "      <td>0</td>\n",
       "      <td>1</td>\n",
       "      <td>0</td>\n",
       "      <td>1</td>\n",
       "      <td>0</td>\n",
       "      <td>1</td>\n",
       "      <td>1</td>\n",
       "      <td>0</td>\n",
       "      <td>0</td>\n",
       "    </tr>\n",
       "  </tbody>\n",
       "</table>\n",
       "<p>5 rows × 25 columns</p>\n",
       "</div>"
      ],
      "text/plain": [
       "   HomeOwnerFlag  NumberCarsOwned  NumberChildrenAtHome  TotalChildren  \\\n",
       "0              1                3                     0              1   \n",
       "1              1                2                     1              2   \n",
       "2              0                3                     0              0   \n",
       "3              1                2                     1              2   \n",
       "4              1                1                     0              0   \n",
       "\n",
       "   YearlyIncome  AvgMonthSpend  BikeBuyer       Age  Education_Bachelors  \\\n",
       "0      0.298555      -0.231774          1 -0.482516                    1   \n",
       "1      0.271180       0.390755          1  0.851033                    0   \n",
       "2      0.444261       0.672929          1 -0.304710                    1   \n",
       "3     -0.367401       1.501999          1  0.406517                    0   \n",
       "4     -0.682765       1.059828          1  0.584324                    0   \n",
       "\n",
       "   Education_Graduate Degree  ...  Occupation_Manual  Occupation_Professional  \\\n",
       "0                          0  ...                  0                        0   \n",
       "1                          0  ...                  0                        0   \n",
       "2                          0  ...                  0                        0   \n",
       "3                          0  ...                  0                        0   \n",
       "4                          0  ...                  0                        0   \n",
       "\n",
       "   Occupation_Skilled Manual  Gender_F  Gender_M  MaritalStatus_M  \\\n",
       "0                          0         0         1                1   \n",
       "1                          0         0         1                1   \n",
       "2                          0         1         0                0   \n",
       "3                          1         0         1                1   \n",
       "4                          1         0         1                0   \n",
       "\n",
       "   MaritalStatus_S  income_category_low  income_category_medium  \\\n",
       "0                0                    0                       1   \n",
       "1                0                    0                       1   \n",
       "2                1                    0                       1   \n",
       "3                0                    1                       0   \n",
       "4                1                    1                       0   \n",
       "\n",
       "   income_category_high  \n",
       "0                     0  \n",
       "1                     0  \n",
       "2                     0  \n",
       "3                     0  \n",
       "4                     0  \n",
       "\n",
       "[5 rows x 25 columns]"
      ]
     },
     "execution_count": 43,
     "metadata": {},
     "output_type": "execute_result"
    }
   ],
   "source": [
    "df_encoded=pd.get_dummies(df_selected,columns=[\"Education\",\"Occupation\",\"Gender\",\"MaritalStatus\",\"income_category\"],dtype=int)\n",
    "print(\"encoded dataset shape:\",df_encoded.shape)\n",
    "df_encoded.head()"
   ]
  },
  {
   "cell_type": "code",
   "execution_count": 45,
   "id": "fc424999-6269-44dd-a5d4-8dc47015214e",
   "metadata": {},
   "outputs": [],
   "source": [
    "from sklearn.metrics import jaccard_score\n",
    "from sklearn.metrics.pairwise import cosine_similarity"
   ]
  },
  {
   "cell_type": "code",
   "execution_count": 53,
   "id": "e50fdcbb-3cc0-4a5e-8daa-5bc4016c4633",
   "metadata": {},
   "outputs": [
    {
     "name": "stdout",
     "output_type": "stream",
     "text": [
      "SMC: 0.68\n",
      "Jaccard Similarity:0.75\n",
      "Cosine Similarity:0.7912798092926715\n"
     ]
    }
   ],
   "source": [
    "arr1=np.array(df_encoded.iloc[0])\n",
    "arr2=np.array(df_encoded.iloc[1])\n",
    "\n",
    "smc=np.sum(arr1==arr2)/len(arr1)\n",
    "\n",
    "binary_cols=[col for col in df_encoded.columns if set(df_encoded[col].unique())<={0,1}]\n",
    "jaccard=jaccard_score(df_encoded.iloc[0][binary_cols],df_encoded.iloc[1][binary_cols])\n",
    "\n",
    "cosine=cosine_similarity(arr1.reshape(1,-1),arr2.reshape(1,-1))[0][0]\n",
    "\n",
    "print(f\"SMC: {smc}\")\n",
    "print(f\"Jaccard Similarity:{jaccard}\")\n",
    "print(f\"Cosine Similarity:{cosine}\")"
   ]
  },
  {
   "cell_type": "code",
   "execution_count": 55,
   "id": "a91fcfce-6255-4ac3-9bfa-fd05b49cc6d3",
   "metadata": {},
   "outputs": [
    {
     "name": "stdout",
     "output_type": "stream",
     "text": [
      "\n",
      "CommuteDistance column not found in dataset.\n"
     ]
    }
   ],
   "source": [
    "if \"CommuteDistance\" in df.columns:\n",
    "    from scipy.stats import pearsonr\n",
    "    corr, p_value = pearsonr(df[\"CommuteDistance\"], df[\"YearlyIncome\"])\n",
    "    print(f\"\\nPearson Correlation: {corr:.4f}, p-value: {p_value}\")\n",
    "else:\n",
    "    print(\"\\nCommuteDistance column not found in dataset.\")\n"
   ]
  },
  {
   "cell_type": "code",
   "execution_count": 57,
   "id": "d75b0f2a-4dd8-4ee9-b02b-280a3801768d",
   "metadata": {},
   "outputs": [
    {
     "name": "stdout",
     "output_type": "stream",
     "text": [
      "Commute Distance not found\n"
     ]
    }
   ],
   "source": [
    "if \"CommuteDistance\" in customers.columns:\n",
    "    from scipy.stats import pearsonr\n",
    "    corr,p_value=pearsonr(df[\"CommuteDistance\"],df[\"YearlyIncome\"])\n",
    "    print(f\"Correalation:{corr},p-value:{p_value}\")\n",
    "else:\n",
    "    print(\"Commute Distance not found\")"
   ]
  }
 ],
 "metadata": {
  "kernelspec": {
   "display_name": "Python 3 (ipykernel)",
   "language": "python",
   "name": "python3"
  },
  "language_info": {
   "codemirror_mode": {
    "name": "ipython",
    "version": 3
   },
   "file_extension": ".py",
   "mimetype": "text/x-python",
   "name": "python",
   "nbconvert_exporter": "python",
   "pygments_lexer": "ipython3",
   "version": "3.12.7"
  }
 },
 "nbformat": 4,
 "nbformat_minor": 5
}
