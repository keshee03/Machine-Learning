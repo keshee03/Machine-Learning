{
 "cells": [
  {
   "cell_type": "code",
   "execution_count": 5,
   "id": "c6742e11-224a-4a75-8001-8aca975edd5b",
   "metadata": {},
   "outputs": [],
   "source": [
    "import numpy as np \n",
    "import pandas as pd "
   ]
  },
  {
   "cell_type": "code",
   "execution_count": 7,
   "id": "9cd2d6d7-a939-40f5-9bb4-2eeed45b01d2",
   "metadata": {},
   "outputs": [],
   "source": [
    "from sklearn.preprocessing import StandardScaler\n",
    "from sklearn.model_selection import KFold, train_test_split\n",
    "from sklearn.metrics import r2_score"
   ]
  },
  {
   "cell_type": "code",
   "execution_count": 3,
   "id": "81c0c044-c8f3-4c11-832f-86baea8fa0d0",
   "metadata": {},
   "outputs": [],
   "source": [
    "url = \"USA_Housing.csv\"\n",
    "data = pd.read_csv(url)"
   ]
  },
  {
   "cell_type": "code",
   "execution_count": 9,
   "id": "487e0bba-f347-4bfa-987b-8ae5a18c68bd",
   "metadata": {},
   "outputs": [],
   "source": [
    "X = data.drop(columns = [\"Price\"])\n",
    "Y = data[\"Price\"]"
   ]
  },
  {
   "cell_type": "code",
   "execution_count": 11,
   "id": "d08eb897-8555-4b4b-af4d-10aa69a0e1f8",
   "metadata": {},
   "outputs": [],
   "source": [
    "scaler = StandardScaler()\n",
    "X_scaled = scaler.fit_transform(X)"
   ]
  },
  {
   "cell_type": "code",
   "execution_count": 19,
   "id": "62814b79-7342-42f6-86ab-6d6b91299f34",
   "metadata": {},
   "outputs": [],
   "source": [
    "kf = KFold(n_splits = 5, shuffle = True, random_state=42)\n",
    "best_r2 = -np.inf\n",
    "best_beta = None"
   ]
  },
  {
   "cell_type": "code",
   "execution_count": 29,
   "id": "08ac6433-08d5-419e-aed9-0953fe1eb810",
   "metadata": {},
   "outputs": [
    {
     "name": "stdout",
     "output_type": "stream",
     "text": [
      "---- 5-Fold Cross Validation ----\n",
      "Fold 1: R2 Score = 0.9180\n",
      "Fold 2: R2 Score = 0.9146\n",
      "Fold 3: R2 Score = 0.9116\n",
      "Fold 4: R2 Score = 0.9193\n",
      "Fold 5: R2 Score = 0.9244\n",
      "\n",
      "Best R2 Score: 0.9243869413350317\n",
      "Best Beta Matrix (coefficients):\n",
      " [1.23161736e+06 2.30225051e+05 1.63956839e+05 1.21115120e+05\n",
      " 7.83467170e+02 1.50662447e+05]\n"
     ]
    }
   ],
   "source": [
    "print(\"---- 5-Fold Cross Validation ----\")\n",
    "fold = 1\n",
    "for train_index, test_index in kf.split(X_scaled):\n",
    "    X_train, X_test = X_scaled[train_index], X_scaled[test_index]\n",
    "    Y_train, Y_test = Y.iloc[train_index], Y.iloc[test_index]\n",
    "    \n",
    "    # Step (d): Least Squares Regression (Normal Equation)\n",
    "    # beta = (X^T X)^(-1) X^T y\n",
    "    X_train_b = np.c_[np.ones(X_train.shape[0]), X_train]  # add bias term\n",
    "    X_test_b = np.c_[np.ones(X_test.shape[0]), X_test]\n",
    "    \n",
    "    beta = np.linalg.inv(X_train_b.T @ X_train_b) @ X_train_b.T @ Y_train\n",
    "    \n",
    "    Y_pred = X_test_b @ beta\n",
    "    r2 = r2_score(Y_test, Y_pred)\n",
    "    \n",
    "    print(f\"Fold {fold}: R2 Score = {r2:.4f}\")\n",
    "    \n",
    "    if r2 > best_r2:\n",
    "        best_r2 = r2\n",
    "        best_beta = beta\n",
    "    fold += 1\n",
    "\n",
    "print(\"\\nBest R2 Score:\", best_r2)\n",
    "print(\"Best Beta Matrix (coefficients):\\n\", best_beta)"
   ]
  },
  {
   "cell_type": "code",
   "execution_count": 21,
   "id": "5d5055c1-f098-4f3e-8c77-3c3da23be221",
   "metadata": {},
   "outputs": [],
   "source": [
    "X_train, X_test, Y_train, Y_test = train_test_split(X_scaled, Y, test_size=0.3, random_state=42)"
   ]
  },
  {
   "cell_type": "code",
   "execution_count": 23,
   "id": "780c5579-744a-4eb0-952e-13ac3b791345",
   "metadata": {},
   "outputs": [],
   "source": [
    "X_train_b = np.c_[np.ones(X_train.shape[0]), X_train]\n",
    "X_test_b = np.c_[np.ones(X_test.shape[0]), X_test]"
   ]
  },
  {
   "cell_type": "code",
   "execution_count": 25,
   "id": "04ab3a0f-00b4-4b1c-b9d6-095c06b56537",
   "metadata": {},
   "outputs": [
    {
     "name": "stdout",
     "output_type": "stream",
     "text": [
      "\n",
      "Final Model Performance on 30% Test Data:\n",
      "R2 Score = 0.9146818498916266\n"
     ]
    }
   ],
   "source": [
    "beta_final = np.linalg.inv(X_train_b.T @ X_train_b) @ X_train_b.T @ Y_train\n",
    "\n",
    "Y_pred_final = X_test_b @ beta_final\n",
    "final_r2 = r2_score(Y_test, Y_pred_final)\n",
    "\n",
    "print(\"\\nFinal Model Performance on 30% Test Data:\")\n",
    "print(\"R2 Score =\", final_r2)"
   ]
  }
 ],
 "metadata": {
  "kernelspec": {
   "display_name": "Python 3 (ipykernel)",
   "language": "python",
   "name": "python3"
  },
  "language_info": {
   "codemirror_mode": {
    "name": "ipython",
    "version": 3
   },
   "file_extension": ".py",
   "mimetype": "text/x-python",
   "name": "python",
   "nbconvert_exporter": "python",
   "pygments_lexer": "ipython3",
   "version": "3.12.7"
  }
 },
 "nbformat": 4,
 "nbformat_minor": 5
}
